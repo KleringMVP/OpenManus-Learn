{
 "cells": [
  {
   "cell_type": "markdown",
   "metadata": {},
   "source": [
    "# 部署OpenManus经历\n",
    "\n",
    "最近，AI 助手 Manus 十分火爆，在高校+企业，包括一些短视频平台都是流量爆炸，甚至出现了邀请码被高价炒卖的现象。而就在前不久，MetaGPT团队快速响应，仅耗时三小时便推出了开源替代版本 —— OpenManus，本次markdown主要是记录我本人在部署OpenManus的一些想法。\n",
    "\n",
    "**0. 环境说明**\n",
    "\n",
    "首先说一下，我本人研究生期间比较喜欢用百度飞浆平台的服务器，并且此次复现也是参考了飞浆社区的前辈“ayitHooK”的公开项目。因此复现很多任务的时候都是首先考虑该服务器，但本次部署过程中，发现飞桨平台暂不支持浏览器自动化模拟操作，因此最终选择将系统搭建于本地环境中。并且虽然官方推荐接入 Claude-3.5-Sonnet 进行测试，但由于接口申请门槛较高，因此可以优先考虑飞桨平台免费提供的 Qwen/QwQ-32B 一键部署功能，无需额外配置即可直接体验。\n"
   ]
  },
  {
   "cell_type": "markdown",
   "metadata": {},
   "source": [
    "### OpenManus 技术架构概览\n",
    "\n",
    "OpenManus 架构采用了经典的 **ReAct（Reasoning + Acting）模式**。该模式结合了“思考”与“执行”，使智能体能够基于当前上下文做出合理响应。它天然支持状态追踪与记忆管理，因此无需引入复杂的上下文保存机制，整体结构清晰、易维护。\n",
    "\n",
    "---\n",
    "\n",
    "#### 🛠 核心依赖工具\n",
    "\n",
    "1. **PythonExecute**  \n",
    "   执行本地 Python 代码，支持与系统进行交互操作，包括文件管理、数据处理、自动化脚本等，是 OpenManus 的执行核心。\n",
    "\n",
    "2. **FileSaver**  \n",
    "   用于将生成的内容保存为本地文件（如 `.txt`、`.py`、`.html` 等），实现信息的持久化和归档。\n",
    "\n",
    "3. **BrowserUseTool**  \n",
    "   通过模拟用户行为控制浏览器，实现网页的打开、浏览、滚动等操作，适用于需要进行 Web 自动化的任务场景。\n",
    "\n",
    "4. **GoogleSearch**  \n",
    "   提供在线检索能力，帮助模型实时获取互联网上的信息支持。注意：在部分地区访问可能受限，可根据需求替换为本地搜索服务或第三方 API。\n",
    "\n",
    "---\n",
    "\n",
    "#### 💡 拓展理解\n",
    "\n",
    "相比官方版本的 Manus，OpenManus 更注重开源社区的可用性与可定制性。其工具链设计偏基础，便于开发者理解内部逻辑，进行个性化拓展。\n",
    "\n",
    "如果你对功能泛化有更高需求，可以考虑在此基础上引入更多插件模块（如 PDF 阅读器、OCR 工具、数据库连接器等），打造更复杂的 Agent 能力体系。\n",
    "\n",
    "> ReAct 模式的优势在于清晰的决策链与可追踪性，但在任务规模变大或工具协同复杂时，可能需要引入更多中间件或调度机制，以保证系统的稳定性与效率。\n",
    "\n"
   ]
  },
  {
   "cell_type": "markdown",
   "metadata": {},
   "source": [
    "### 1️.首先在AI Studio飞浆平台先部署QWQ-32B模型"
   ]
  },
  {
   "cell_type": "markdown",
   "metadata": {},
   "source": [
    "**模型一键部署**\n",
    "![](https://ai-studio-static-online.cdn.bcebos.com/9f8e5b8ae8c84b9abf468820b0d8fb1b343d23f98767484e8fdf3d30fae26506)\n",
    "\n",
    "\n",
    "**获取获取API地址和密钥**\n",
    "\n",
    "![](https://ai-studio-static-online.cdn.bcebos.com/daffce4e55ca403b8e78b3f611366be85c6cb0b675b6430f83b789877e56ff29)\n",
    "\n",
    "\n"
   ]
  },
  {
   "cell_type": "markdown",
   "metadata": {},
   "source": [
    "### 2.配置OpenManus\n",
    "**！！！注意：**这里是在本地进行配置"
   ]
  },
  {
   "cell_type": "code",
   "execution_count": null,
   "metadata": {
    "scrolled": true
   },
   "outputs": [],
   "source": [
    "# 1.克隆项目：\n",
    "!git clone https://github.com/mannaandpoem/OpenManus.git\n",
    "!cd OpenManus"
   ]
  },
  {
   "cell_type": "markdown",
   "metadata": {},
   "source": [
    "**2.创建配置文件**\n",
    "\n",
    "\n",
    "![](https://ai-studio-static-online.cdn.bcebos.com/ff90f8698dab42c6b314bd8500e59787decf33bb0266485a9a12a13c601d0ded)\n",
    "\n"
   ]
  },
  {
   "cell_type": "code",
   "execution_count": null,
   "metadata": {
    "scrolled": true
   },
   "outputs": [],
   "source": [
    "# 2.创建配置文件\n",
    "!cp config/config.example.toml config/config.toml"
   ]
  },
  {
   "cell_type": "code",
   "execution_count": null,
   "metadata": {
    "scrolled": true
   },
   "outputs": [],
   "source": [
    "# 3.编辑配置文件，填入您的模型API信息：\n",
    "\n",
    "# Global LLM configuration\n",
    "[llm]\n",
    "model = \"qwq\"\n",
    "base_url = \"\"\n",
    "api_key = \"\"\n",
    "max_tokens = 4096\n",
    "temperature = 0.0\n",
    "\n",
    "\n",
    "# Optional configuration for specific LLM models\n",
    "[llm.vision]\n",
    "model = \"claude-3-5-sonnet\"\n",
    "base_url = \"https://api.openai.com/v1\"\n",
    "api_key = \"sk-...\"\n"
   ]
  },
  {
   "cell_type": "markdown",
   "metadata": {},
   "source": [
    "### 3.启动服务\n",
    "![](https://ai-studio-static-online.cdn.bcebos.com/4c6d1fef1d31454cb802d0f4f2ceee89c6cbc4657d334240a99bbc0378eee9d3)\n",
    "\n"
   ]
  },
  {
   "cell_type": "markdown",
   "metadata": {},
   "source": [
    "# 一些思考\n",
    "\n",
    "- 说实话，挺佩服 MetaGPT 团队的效率，能在短时间内做出 OpenManus 这样可跑通的项目，对像我这样的 AIGC 研究生来说，确实是一个很值得学习的范例。通过飞桨平台部署 Qwen/QwQ-32B 模型，也让更多人能以较低成本体验智能体的实际效果。\n",
    "\n",
    "- 从实际体验来看，Qwen/QwQ-32B 的效果跟官方用 Claude-3.5-Sonnet 相比较还是有差距的，运行逻辑可能也没那么“聪明”，但考虑到 OpenManus 只花了 **三个小时**开发出来，而且还是 **开源的**，这点真的很难得。对我来说，它是一个很好的观察和分析 ReAct 框架的入门实践项目。\n",
    "\n",
    "- 这几天，关于 Manus 的热度非常高，很多人都在喊“AGI 来了”。但其实我觉得AI 的发展不可能靠某一个产品就一飞冲天。真正的 AGI，肯定是很多团队、很多年积累出来的结果，而不是一两个爆款工具就能解决的事。\n",
    "\n",
    "- 作为一名AIGC研究生，像 OpenManus 这种开源项目就是很好的练手机会。开放对于一个AI项目来说比什么都重要。\n",
    "\n",
    "---\n"
   ]
  }
 ],
 "metadata": {
  "kernelspec": {
   "display_name": "Python 3",
   "language": "python",
   "name": "py35-paddle1.2.0"
  },
  "language_info": {
   "codemirror_mode": {
    "name": "ipython",
    "version": 3
   },
   "file_extension": ".py",
   "mimetype": "text/x-python",
   "name": "python",
   "nbconvert_exporter": "python",
   "pygments_lexer": "ipython3",
   "version": "3.10.10"
  }
 },
 "nbformat": 4,
 "nbformat_minor": 4
}
